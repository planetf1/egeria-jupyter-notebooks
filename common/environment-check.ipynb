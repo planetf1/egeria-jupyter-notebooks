{
 "cells": [
  {
   "cell_type": "code",
   "execution_count": 1,
   "metadata": {
    "tags": []
   },
   "outputs": [
    {
     "name": "stdout",
     "output_type": "stream",
     "text": [
      "\n",
      "Checking OMAG Server Platform availability...\n"
     ]
    },
    {
     "ename": "NameError",
     "evalue": "name 'activatePlatform' is not defined",
     "output_type": "error",
     "traceback": [
      "\u001b[0;31m---------------------------------------------------------------------------\u001b[0m",
      "\u001b[0;31mNameError\u001b[0m                                 Traceback (most recent call last)",
      "Input \u001b[0;32mIn [1]\u001b[0m, in \u001b[0;36m<cell line: 8>\u001b[0;34m()\u001b[0m\n\u001b[1;32m      1\u001b[0m \u001b[38;5;66;03m#\u001b[39;00m\n\u001b[1;32m      2\u001b[0m \u001b[38;5;66;03m# Perform basic checks to ensure the calling notebook has a good environment to work against.\u001b[39;00m\n\u001b[1;32m      3\u001b[0m \u001b[38;5;66;03m# These are the only calls to run functions defined above.\u001b[39;00m\n\u001b[1;32m      4\u001b[0m \u001b[38;5;66;03m#\u001b[39;00m\n\u001b[1;32m      6\u001b[0m \u001b[38;5;28mprint\u001b[39m(\u001b[38;5;124m\"\u001b[39m\u001b[38;5;130;01m\\n\u001b[39;00m\u001b[38;5;124mChecking OMAG Server Platform availability...\u001b[39m\u001b[38;5;124m\"\u001b[39m)\n\u001b[0;32m----> 8\u001b[0m \u001b[43mactivatePlatform\u001b[49m(corePlatformName, corePlatformURL, [cocoMDS2Name, cocoMDS3Name, cocoMDS5Name, cocoMDS6Name])\n\u001b[1;32m      9\u001b[0m activatePlatform(dataLakePlatformName, dataLakePlatformURL, [cocoMDS1Name, cocoMDS4Name, cocoView1Name, cocoOLS1Name])\n\u001b[1;32m     10\u001b[0m activatePlatform(devPlatformName, devPlatformURL, [cocoMDSxName])\n",
      "\u001b[0;31mNameError\u001b[0m: name 'activatePlatform' is not defined"
     ]
    }
   ],
   "source": [
    "\n",
    "#\n",
    "# Perform basic checks to ensure the calling notebook has a good environment to work against.\n",
    "# These are the only calls to run functions defined above.\n",
    "#\n",
    "\n",
    "print(\"\\nChecking OMAG Server Platform availability...\")\n",
    "\n",
    "activatePlatform(corePlatformName, corePlatformURL, [cocoMDS2Name, cocoMDS3Name, cocoMDS5Name, cocoMDS6Name])\n",
    "activatePlatform(dataLakePlatformName, dataLakePlatformURL, [cocoMDS1Name, cocoMDS4Name, cocoView1Name, cocoOLS1Name])\n",
    "activatePlatform(devPlatformName, devPlatformURL, [cocoMDSxName])\n",
    "\n",
    "print (\"Done.\")\n",
    "print (\" \")\n"
   ]
  },
  {
   "cell_type": "code",
   "execution_count": null,
   "metadata": {},
   "outputs": [],
   "source": []
  }
 ],
 "metadata": {
  "kernelspec": {
   "display_name": "Python 3 (ipykernel)",
   "language": "python",
   "name": "python3"
  },
  "language_info": {
   "codemirror_mode": {
    "name": "ipython",
    "version": 3
   },
   "file_extension": ".py",
   "mimetype": "text/x-python",
   "name": "python",
   "nbconvert_exporter": "python",
   "pygments_lexer": "ipython3",
   "version": "3.9.12"
  }
 },
 "nbformat": 4,
 "nbformat_minor": 4
}
