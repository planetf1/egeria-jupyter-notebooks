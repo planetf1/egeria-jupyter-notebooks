{
 "cells": [
  {
   "cell_type": "markdown",
   "metadata": {},
   "source": [
    "![Egeria Logo](https://raw.githubusercontent.com/odpi/egeria/main/assets/img/ODPi_Egeria_Logo_color.png)\n",
    "\n",
    "### Egeria Hands-On Lab\n",
    "# Welcome to Starting the Egeria Servers Lab"
   ]
  },
  {
   "cell_type": "markdown",
   "metadata": {},
   "source": [
    "## Introduction\n",
    "\n",
    "Egeria is an open source project that provides open standards and implementation libraries to connect tools, catalogs and platforms together so they can share information (called metadata) about data and the technology that supports it.\n",
    "\n",
    "The Egeria platform services provide APIs for starting and stopping servers on a specific OMAG Server Platform. \n",
    "\n",
    "This hands-on lab explains how this is done."
   ]
  },
  {
   "cell_type": "markdown",
   "metadata": {},
   "source": [
    "## The scenario\n",
    "\n",
    "<img src=\"https://raw.githubusercontent.com/odpi/egeria-docs/main/site/docs/practices/coco-pharmaceuticals/personas/gary-geeke.png\" style=\"float:left\">\n",
    "\n",
    "Gary Geeke is the IT Infrastructure leader at Coco Pharmaceuticals.  In the [Configuring Egeria Servers Lab](./egeria-server-config.ipynb) he has set up a number of OMAG Server Platforms and has validated that they are operating correctly.\n",
    "\n",
    "In this hands-on lab Gary is starting up the servers on Coco Pharmaceutical's OMAG Server Platform.  Gary's userId is `garygeeke`."
   ]
  },
  {
   "cell_type": "markdown",
   "metadata": {},
   "source": [
    "In the [Configuring Egeria Servers Lab](./egeria-server-config.ipynb), Gary configured servers for the Open Metadata and Governance (OMAG) Server Platforms shown in Figure 1:\n",
    "\n",
    "![Figure 1](images/coco-pharmaceuticals-systems-omag-server-platforms.png)\n",
    "> **Figure 1:** Coco Pharmaceuticals' OMAG Server Platforms\n"
   ]
  },
  {
   "cell_type": "markdown",
   "metadata": {},
   "source": [
    "----\n",
    "This function starts all of these servers on the Core, Data Lake and Development OMAG Server Platforms."
   ]
  },
  {
   "cell_type": "code",
   "execution_count": 1,
   "metadata": {},
   "outputs": [
    {
     "name": "stdout",
     "output_type": "stream",
     "text": [
      "\n",
      "Checking OMAG Server Platform availability...\n",
      "    Core Platform is active\n",
      "        Checking OMAG Server cocoMDS2\n",
      "           ... cocoMDS2 is configured\n",
      "           ... cocoMDS2 is not known - needs to be started\n",
      "                Starting server cocoMDS2 ...\n",
      "        Checking OMAG Server cocoMDS3\n",
      "           ... cocoMDS3 is configured\n",
      "           ... cocoMDS3 is not known - needs to be started\n",
      "                Starting server cocoMDS3 ...\n",
      "        Checking OMAG Server cocoMDS5\n",
      "           ... cocoMDS5 is configured\n",
      "           ... cocoMDS5 is not known - needs to be started\n",
      "                Starting server cocoMDS5 ...\n",
      "        Checking OMAG Server cocoMDS6\n",
      "           ... cocoMDS6 is configured\n",
      "           ... cocoMDS6 is not known - needs to be started\n",
      "                Starting server cocoMDS6 ...\n",
      "    Data Lake Platform is active\n",
      "        Checking OMAG Server cocoMDS1\n",
      "           ... cocoMDS1 is configured\n",
      "           ... cocoMDS1 is not known - needs to be started\n",
      "                Starting server cocoMDS1 ...\n",
      "        Checking OMAG Server cocoMDS4\n",
      "           ... cocoMDS4 is configured\n",
      "           ... cocoMDS4 is not known - needs to be started\n",
      "                Starting server cocoMDS4 ...\n",
      "        Checking OMAG Server cocoView1\n",
      "           ... cocoView1 is configured\n",
      "           ... cocoView1 is not known - needs to be started\n",
      "                Starting server cocoView1 ...\n",
      "        Checking OMAG Server cocoOLS1\n",
      "           ... cocoOLS1 is configured\n",
      "           ... cocoOLS1 is not known - needs to be started\n",
      "                Starting server cocoOLS1 ...\n",
      "    Dev Platform is active\n",
      "        Checking OMAG Server cocoMDSx\n",
      "           ... cocoMDSx is configured\n",
      "           ... cocoMDSx is not known - needs to be started\n",
      "                Starting server cocoMDSx ...\n",
      "Done.\n",
      " \n"
     ]
    }
   ],
   "source": [
    "%run common/common-functions.ipynb\n",
    "%run common/environment-check.ipynb"
   ]
  },
  {
   "cell_type": "markdown",
   "metadata": {},
   "source": [
    "----"
   ]
  },
  {
   "cell_type": "code",
   "execution_count": null,
   "metadata": {},
   "outputs": [],
   "source": []
  },
  {
   "cell_type": "code",
   "execution_count": null,
   "metadata": {},
   "outputs": [],
   "source": []
  }
 ],
 "metadata": {
  "kernelspec": {
   "display_name": "Python 3 (ipykernel)",
   "language": "python",
   "name": "python3"
  },
  "language_info": {
   "codemirror_mode": {
    "name": "ipython",
    "version": 3
   },
   "file_extension": ".py",
   "mimetype": "text/x-python",
   "name": "python",
   "nbconvert_exporter": "python",
   "pygments_lexer": "ipython3",
   "version": "3.9.12"
  }
 },
 "nbformat": 4,
 "nbformat_minor": 4
}
